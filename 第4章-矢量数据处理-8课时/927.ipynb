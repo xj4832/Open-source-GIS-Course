{
 "cells": [
  {
   "cell_type": "markdown",
   "metadata": {},
   "source": [
    "### 新建面矢量数据\n",
    "wkt：\n",
    "point：'POINT(30,10)'\n",
    "linestring:'LINESTRING(30 10, 10 30, 20 20)'\n",
    "polygon:'POLYGON((30 10, 10 30, 20 20))'\n"
   ]
  },
  {
   "cell_type": "code",
   "execution_count": 2,
   "metadata": {},
   "outputs": [],
   "source": [
    "from osgeo import ogr\n",
    "from osgeo import osr"
   ]
  },
  {
   "cell_type": "code",
   "execution_count": 3,
   "metadata": {},
   "outputs": [],
   "source": [
    "path_ynu_vector = 'E:\\QGIS Data\\9_27\\ynu_vector.shp'\n",
    "ynu_wkt = 'POLYGON((102.839 24.832, 102.840 24.836, 102.845 24.837, 102.855 24.837,102.858 24.834,102.864 24.828,102.846 24.821))'\n",
    "geo_ynu = ogr.CreateGeometryFromWkt(ynu_wkt)\n",
    "\n",
    "driver = ogr.GetDriverByName('ESRI Shapefile')\n",
    "ds_ynu = driver.CreateDataSource(path_ynu_vector)\n",
    "spatialRef = osr.SpatialReference()\n",
    "spatialRef.ImportFromEPSG(4326)\n",
    "layer_ynu = ds_ynu.CreateLayer('ynu_vec',srs=spatialRef,geom_type=ogr.wkbPolygon)\n",
    "fea_defn = layer_ynu.GetLayerDefn()\n",
    "field_defn = ogr.FieldDefn('fid',ogr.OFTInteger)\n",
    "layer_ynu.CreateField(field_defn)\n",
    "fea_ynu = ogr.Feature(fea_defn)\n",
    "fea_ynu.SetField('fid',11)\n",
    "fea_ynu.SetGeometry(geo_ynu)\n",
    "layer_ynu.CreateFeature(fea_ynu)\n",
    "\n",
    "ds_ynu = None\n",
    "ds = None\n",
    "\n",
    "\n"
   ]
  }
 ],
 "metadata": {
  "kernelspec": {
   "display_name": "Python 3",
   "language": "python",
   "name": "python3"
  },
  "language_info": {
   "codemirror_mode": {
    "name": "ipython",
    "version": 3
   },
   "file_extension": ".py",
   "mimetype": "text/x-python",
   "name": "python",
   "nbconvert_exporter": "python",
   "pygments_lexer": "ipython3",
   "version": "3.8.2"
  },
  "orig_nbformat": 4
 },
 "nbformat": 4,
 "nbformat_minor": 2
}
