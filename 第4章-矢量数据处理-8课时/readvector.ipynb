{
 "cells": [
  {
   "cell_type": "code",
   "execution_count": 16,
   "metadata": {},
   "outputs": [],
   "source": [
    "from osgeo import ogr"
   ]
  },
  {
   "cell_type": "code",
   "execution_count": 17,
   "metadata": {},
   "outputs": [
    {
     "data": {
      "text/plain": [
       "'e:\\\\QGIS课件\\\\Open-source-GIS-Course-main_del\\\\新建文件夹\\\\Open-source-GIS-Course\\\\第4章-矢量数据处理-8课时'"
      ]
     },
     "execution_count": 17,
     "metadata": {},
     "output_type": "execute_result"
    }
   ],
   "source": [
    "import os \n",
    "os.getcwd()"
   ]
  },
  {
   "cell_type": "code",
   "execution_count": 10,
   "metadata": {},
   "outputs": [],
   "source": [
    "path_kunming = 'E:\\QGIS Data\\kunming.shp'"
   ]
  },
  {
   "cell_type": "code",
   "execution_count": 19,
   "metadata": {},
   "outputs": [
    {
     "name": "stdout",
     "output_type": "stream",
     "text": [
      "number of feature 14\n",
      "umber of field 8\n"
     ]
    }
   ],
   "source": [
    "ds = ogr.Open(path_kunming,0)\n",
    "layer = ds.GetLayer(0)\n",
    "print(\"number of feature\",layer.GetFeatureCount())\n",
    "print(\"umber of field\",layer.GetFeature(0).GetFieldCount())"
   ]
  },
  {
   "cell_type": "code",
   "execution_count": 20,
   "metadata": {},
   "outputs": [
    {
     "name": "stdout",
     "output_type": "stream",
     "text": [
      "['dt_adcode', 'dt_name', 'ct_adcode', 'ct_name', 'pr_adcode', 'pr_name', 'cn_adcode', 'cn_name']\n"
     ]
    }
   ],
   "source": [
    "fields = []\n",
    "fea = layer.GetFeature(0)\n",
    "for i in range(0,layer.GetFeature(0).GetFieldCount()):\n",
    "    field = fea.GetFieldDefnRef(i).name\n",
    "    fields.append(field)\n",
    "print(fields)"
   ]
  },
  {
   "cell_type": "code",
   "execution_count": 21,
   "metadata": {},
   "outputs": [
    {
     "name": "stdout",
     "output_type": "stream",
     "text": [
      "字段名称： 盘龙区\n",
      "五华区\n",
      "盘龙区\n",
      "官渡区\n",
      "西山区\n",
      "东川区\n",
      "呈贡区\n",
      "晋宁区\n",
      "富民县\n",
      "宜良县\n",
      "石林彝族自治县\n",
      "嵩明县\n",
      "禄劝彝族苗族自治县\n",
      "寻甸回族彝族自治县\n",
      "安宁市\n"
     ]
    }
   ],
   "source": [
    "field_name = 'dt_name'\n",
    "fea = layer.GetFeature(1)\n",
    "print('字段名称：',fea.GetField(field_name))\n",
    "for fea in layer:\n",
    "    print(fea.GetField(field_name))"
   ]
  },
  {
   "cell_type": "code",
   "execution_count": 2,
   "metadata": {},
   "outputs": [],
   "source": [
    "ds = None"
   ]
  },
  {
   "cell_type": "code",
   "execution_count": 7,
   "metadata": {},
   "outputs": [],
   "source": [
    "path_kunming_out_1 = 'E:\\QGIS Data\\kunming_district_dtname.shp'"
   ]
  },
  {
   "cell_type": "code",
   "execution_count": null,
   "metadata": {},
   "outputs": [],
   "source": [
    "ds = None\n",
    "de_out = None"
   ]
  },
  {
   "cell_type": "code",
   "execution_count": 4,
   "metadata": {},
   "outputs": [],
   "source": [
    "from osgeo import ogr"
   ]
  },
  {
   "cell_type": "code",
   "execution_count": null,
   "metadata": {},
   "outputs": [],
   "source": [
    "field_name = 'dt_adcode'\n",
    "ds = ogr.Open(path_kunming,0)\n",
    "layer = ds.GetLayer(0)\n",
    "\n",
    "driver = ogr.GetDriverByName('ESRI Shapefile')\n",
    "ds_out = driver.CreateDataSource(path_kunming_out_1)\n",
    "layer_out = ds_out.CreateLayer('kunming_district_dtname',geom_type=ogr.wkbPolygon,srs=layer.GetSpatialRef())\n",
    "field_defn = ogr.FieldDefn(field_name, ogr.OFTReal)\n",
    "layer_out.CreateField(field_defn)\n",
    "fea_defn = layer_out.GetLayerDefn()\n",
    "for i in range(layer.GetFeatureCount()):\n",
    "    print(i)\n",
    "    fea = layer.GetFeature(i)\n",
    "    geo = fea.geometry()\n",
    "    fea_out = ogr.Feature(fea_defn)\n",
    "    fea_out.SetGeometry(geo)\n",
    "    field_value = fea.GetField(field_name)\n",
    "    fea_out.SetField(field_name,field_value)\n",
    "    layer_out.CreateFeature(fea_out)\n",
    "\n",
    "\n",
    "ds = None\n",
    "ds_out = None"
   ]
  },
  {
   "cell_type": "markdown",
   "metadata": {},
   "source": [
    "### 写出含呈贡区的矢量数据"
   ]
  },
  {
   "cell_type": "code",
   "execution_count": 27,
   "metadata": {},
   "outputs": [],
   "source": [
    "path_kunming_out_2 = 'E:\\QGIS Data\\kunming_chenggong2.shp'"
   ]
  },
  {
   "cell_type": "code",
   "execution_count": null,
   "metadata": {},
   "outputs": [],
   "source": [
    "fea_name = 'chenggong'\n",
    "field_name = 'dt_adcode'\n",
    "ds = ogr.Open(path_kunming,0)\n",
    "layer = ds.GetLayer(0)\n",
    "\n",
    "## 创建新矢量文件\n",
    "driver = ogr.GetDriverByName('ESRI Shapefile')\n",
    "ds_out = driver.CreateDataSource(path_kunming_out_2)\n",
    "layer_out = ds_out.CreateLayer('kunming_chenggong2',geom_type=ogr.wkbPolygon,srs=layer.GetSpatialRef())\n",
    "\n",
    "fea_defn = layer_out.GetLayerDefn()\n",
    "\n",
    "layer_defn = layer_out.GetLayerDefn()\n",
    "print(layer_defn.GetFieldCount())\n",
    "fea = layer.GetFeature(0)\n",
    "for i in range(fea.GetFieldCount()):\n",
    "    field_defn = fea.GetFieldDefnRef(i)\n",
    "    layer_out.CreateField(field_defn)\n",
    "layer_defn = layer_out.GetLayerDefn()\n",
    "print(layer_defn.GetFieldCount())\n",
    "\n",
    "for i in range(layer.GetFeatureCount()):\n",
    "    fea = layer.GetFeature(i)\n",
    "    if fea.GetField('dt_name') == fea_name:\n",
    "        fea_out = ogr.Feature(fea_defn)\n",
    "        fea_out.SetGeometry(fea.geometry())\n",
    "        for i in range(fea.GetFieldCount()):\n",
    "            field_value = fea.GetField(i)\n",
    "            fea_out.SetField(i,field_value)\n",
    "        layer_out.CreateFeature(fea_out)\n",
    "ds  = None\n",
    "ds_out = None\n"
   ]
  }
 ],
 "metadata": {
  "kernelspec": {
   "display_name": "Python 3",
   "language": "python",
   "name": "python3"
  },
  "language_info": {
   "codemirror_mode": {
    "name": "ipython",
    "version": 3
   },
   "file_extension": ".py",
   "mimetype": "text/x-python",
   "name": "python",
   "nbconvert_exporter": "python",
   "pygments_lexer": "ipython3",
   "version": "3.8.2"
  },
  "orig_nbformat": 4
 },
 "nbformat": 4,
 "nbformat_minor": 2
}
