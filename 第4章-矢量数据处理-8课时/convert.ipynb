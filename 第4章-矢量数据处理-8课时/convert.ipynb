{
 "cells": [
  {
   "cell_type": "code",
   "execution_count": 1,
   "metadata": {},
   "outputs": [],
   "source": [
    "from osgeo import ogr\n",
    "from osgeo import osr"
   ]
  },
  {
   "cell_type": "code",
   "execution_count": 2,
   "metadata": {},
   "outputs": [],
   "source": [
    "path_kunming = 'E:\\QGIS Data\\kunming_district_dtname.shp'"
   ]
  },
  {
   "cell_type": "markdown",
   "metadata": {},
   "source": [
    "# 坐标转换"
   ]
  },
  {
   "cell_type": "markdown",
   "metadata": {},
   "source": [
    "#### epsg = 4326\n",
    "#### utm 32648"
   ]
  },
  {
   "cell_type": "code",
   "execution_count": 3,
   "metadata": {},
   "outputs": [],
   "source": [
    "path_kunming_utm = 'E:\\QGIS Data\\convert\\kunming_utm.shp'\n",
    "utm_epsg = 32648\n",
    "in_ds = ogr.Open(path_kunming)\n",
    "in_layer = in_ds.GetLayer(0)\n",
    "\n",
    "driver = ogr.GetDriverByName('ESRI Shapefile')\n",
    "out_ds = driver.CreateDataSource(path_kunming_utm)\n",
    "out_layer = out_ds.CreateLayer('kunming_utm',geom_type=ogr.wkbPolygon)\n",
    "for i in range(in_layer.GetFeature(0).GetFieldCount()):\n",
    "    field_defn = in_layer.GetFeature(0).GetFieldDefnRef(i)\n",
    "    out_layer.CreateField(field_defn)\n",
    "\n",
    "### 空间参考\n",
    "spatialRef = in_layer.GetSpatialRef()\n",
    "utm_spatialRef = osr.SpatialReference()\n",
    "utm_spatialRef.ImportFromEPSG(utm_epsg)\n",
    "\n",
    "### 投影转换\n",
    "coordinate_transform = osr.CoordinateTransformation(spatialRef,utm_spatialRef)\n",
    "\n",
    "### 要素定义\n",
    "feadefn = in_layer.GetLayerDefn()\n",
    "### 遍历要素\n",
    "for i in range(in_layer.GetFeatureCount()):\n",
    "    in_fea = in_layer.GetFeature(i)\n",
    "    in_geo = in_fea.geometry()\n",
    "    in_geo.Transform(coordinate_transform)\n",
    "    out_geo = in_geo\n",
    "    out_fea = ogr.Feature(feadefn)\n",
    "    out_fea.SetGeometry(out_geo)\n",
    "    for j in range(feadefn.GetFieldCount()):\n",
    "        field_value = in_fea.GetField(j)\n",
    "        out_fea.SetField(j,field_value)\n",
    "    out_layer.CreateFeature(out_fea)\n",
    "\n",
    "ds = None\n",
    "out_ds = None\n",
    "\n",
    "### 保存投影文件\n",
    "prj_path = path_kunming_utm.replace('.shp','.prj')\n",
    "fn = open(prj_path,'w')\n",
    "fn.write(utm_spatialRef.ExportToWkt())\n",
    "\n",
    "fn.close()\n",
    "\n",
    "\n",
    "\n"
   ]
  },
  {
   "cell_type": "markdown",
   "metadata": {},
   "source": [
    "2.添加/删除面积字段"
   ]
  },
  {
   "cell_type": "code",
   "execution_count": 5,
   "metadata": {},
   "outputs": [],
   "source": [
    "ds = ogr.Open(path_kunming_utm,1)\n",
    "layer = ds.GetLayer(0)\n",
    "field_defn = ogr.FieldDefn('area',ogr.OFTReal)\n",
    "layer.CreateField(field_defn)\n",
    "ds = None\n"
   ]
  },
  {
   "cell_type": "code",
   "execution_count": null,
   "metadata": {},
   "outputs": [],
   "source": [
    "ds = ogr.Open(path_kunming_utm,1)\n",
    "layer = ds.GetLayer(0)\n",
    "for i in range(layer.GetFeatureCount()):\n",
    "    fea = layer.GetFeature(i)\n",
    "    fea_area = fea.geometry().Area()\n",
    "    fea_area = fea_area/(1000*1000)\n",
    "    #print('area is',fea_area)\n",
    "    fea.SetField('area(km2)',fea_area)\n",
    "    layer.SetFeature(fea)\n",
    "ds =None"
   ]
  },
  {
   "cell_type": "markdown",
   "metadata": {},
   "source": [
    "3.获取要素几何中心点"
   ]
  },
  {
   "cell_type": "code",
   "execution_count": 7,
   "metadata": {},
   "outputs": [],
   "source": [
    "path_kunming_center = 'E:\\QGIS Data\\convert\\kunming_center.shp'\n",
    "in_ds = ogr.Open(path_kunming,0)\n",
    "in_layer = in_ds.GetLayer(0)\n",
    "in_spatialref = in_layer.GetSpatialRef()\n",
    "\n",
    "driver = ogr.GetDriverByName('ESRI Shapefile')\n",
    "out_ds = driver.CreateDataSource(path_kunming_center)\n",
    "out_layer = out_ds.CreateLayer('kunming_center',geom_type=ogr.wkbPoint,srs=in_spatialref)\n",
    "\n",
    "field_defn = ogr.FieldDefn('fid',ogr.OFTInteger)\n",
    "out_layer.CreateField(field_defn)\n",
    "out_fea_defn = out_layer.GetLayerDefn()\n",
    "\n",
    "for i in range(in_layer.GetFeatureCount()):\n",
    "    in_fea = in_layer.GetFeature(i)\n",
    "    out_geo = in_fea.geometry().Centroid()\n",
    "    out_fea = ogr.Feature(out_fea_defn)\n",
    "    out_fea.SetGeometry(out_geo)\n",
    "    out_fea.SetField('fid',i+1)\n",
    "    out_layer.CreateFeature(out_fea)\n",
    "\n",
    "out_ds = None\n",
    "ds = None\n"
   ]
  }
 ],
 "metadata": {
  "kernelspec": {
   "display_name": "Python 3",
   "language": "python",
   "name": "python3"
  },
  "language_info": {
   "codemirror_mode": {
    "name": "ipython",
    "version": 3
   },
   "file_extension": ".py",
   "mimetype": "text/x-python",
   "name": "python",
   "nbconvert_exporter": "python",
   "pygments_lexer": "ipython3",
   "version": "3.8.2"
  },
  "orig_nbformat": 4
 },
 "nbformat": 4,
 "nbformat_minor": 2
}
