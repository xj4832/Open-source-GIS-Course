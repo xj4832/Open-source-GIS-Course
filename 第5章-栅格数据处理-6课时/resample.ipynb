{
 "cells": [
  {
   "cell_type": "code",
   "execution_count": 1,
   "metadata": {},
   "outputs": [],
   "source": [
    "from osgeo import gdal\n"
   ]
  },
  {
   "cell_type": "code",
   "execution_count": 2,
   "metadata": {},
   "outputs": [],
   "source": [
    "path_img = 'E:\\QGIS Data\\s2_chenggong_6bands.tif'\n",
    "path_imgr = \"E:\\QGIS Data\\sample\\s2_chenggong_6bands_resam.tif\""
   ]
  },
  {
   "cell_type": "code",
   "execution_count": 3,
   "metadata": {},
   "outputs": [],
   "source": [
    "dset = gdal.Open(path_img)\n"
   ]
  },
  {
   "cell_type": "markdown",
   "metadata": {},
   "source": [
    "#### 重采样到60m分辨率"
   ]
  },
  {
   "cell_type": "code",
   "execution_count": 4,
   "metadata": {},
   "outputs": [
    {
     "name": "stdout",
     "output_type": "stream",
     "text": [
      "874420.0 904220.0 2802200.0 2769600.0\n"
     ]
    }
   ],
   "source": [
    "geo_trans = dset.GetGeoTransform()\n",
    "geo_trans\n",
    "x_min = geo_trans[0]\n",
    "y_max = geo_trans[3]\n",
    "x_max = x_min + dset.RasterXSize*geo_trans[1]\n",
    "y_min = y_max - dset.RasterYSize*geo_trans[5]\n",
    "print(x_min,x_max,y_min,y_max)"
   ]
  },
  {
   "cell_type": "code",
   "execution_count": 5,
   "metadata": {},
   "outputs": [
    {
     "name": "stdout",
     "output_type": "stream",
     "text": [
      "496.6666666666667 543.3333333333334\n"
     ]
    }
   ],
   "source": [
    "x_res_resam = 60\n",
    "y_res_resam = -60\n",
    "x_size = (x_max-x_min)/x_res_resam\n",
    "y_size = (y_max-y_min)/y_res_resam\n",
    "print(x_size,y_size)"
   ]
  },
  {
   "cell_type": "code",
   "execution_count": 6,
   "metadata": {},
   "outputs": [
    {
     "name": "stdout",
     "output_type": "stream",
     "text": [
      "497 543\n"
     ]
    }
   ],
   "source": [
    "x_size_update = round(x_size)\n",
    "y_size_update = round(y_size)\n",
    "print(x_size_update,y_size_update)\n"
   ]
  },
  {
   "cell_type": "code",
   "execution_count": 7,
   "metadata": {},
   "outputs": [
    {
     "name": "stdout",
     "output_type": "stream",
     "text": [
      "59.95975855130785 60.03683241252302\n"
     ]
    }
   ],
   "source": [
    "x_res_update = (x_max - x_min)/x_size_update\n",
    "y_res_update = -(y_max - y_min)/y_size_update\n",
    "print(x_res_update,y_res_update)\n"
   ]
  },
  {
   "cell_type": "code",
   "execution_count": 8,
   "metadata": {},
   "outputs": [],
   "source": [
    "geotrans_resam = [x_min, x_res_resam, 0, y_max, 0, y_res_resam]\n",
    "\n",
    "\n"
   ]
  },
  {
   "cell_type": "code",
   "execution_count": 19,
   "metadata": {},
   "outputs": [],
   "source": [
    "driver = gdal.GetDriverByName('GTiff')\n",
    "dset_resam = driver.Create(path_imgr,xsize=x_size_update,ysize=y_size_update,bands=dset.RasterCount,eType=gdal.GDT_Int16)\n",
    "dset_resam.SetProjection(dset.GetProjection())\n",
    "dset_resam.SetGeoTransform(geotrans_resam)\n",
    "\n",
    "#重采样\n",
    "resam = gdal.ReprojectImage(src_ds=dset,dst_ds=dset_resam,eResampleAlg=gdal.GRA_Bilinear)\n",
    "dset_resam = None\n",
    "\n",
    "\n"
   ]
  },
  {
   "cell_type": "code",
   "execution_count": 4,
   "metadata": {},
   "outputs": [],
   "source": [
    "path_reproj_2 = \"E:\\QGIS Data\\sample\\projection2.tif\"\n",
    "path_resam_2 = \"E:\\QGIS Data\\sample\\c_resample.tif\"\n"
   ]
  },
  {
   "cell_type": "code",
   "execution_count": 14,
   "metadata": {},
   "outputs": [],
   "source": [
    "reproj = gdal.Translate(srcDS=path_img, destName=path_reproj_2, format = 'GTiff')"
   ]
  },
  {
   "cell_type": "code",
   "execution_count": 14,
   "metadata": {},
   "outputs": [
    {
     "name": "stdout",
     "output_type": "stream",
     "text": [
      "\n"
     ]
    }
   ],
   "source": [
    "from osgeo import osr\n",
    "wgs84_epsg = 4326\n",
    "wgs84 = osr.SpatialReference()\n",
    "wgs84.ImportFromEPSG(wgs84_epsg)\n",
    "wkt84 = wgs84.ExportToWkt()\n",
    "print(wkt84)\n",
    "\n"
   ]
  },
  {
   "cell_type": "code",
   "execution_count": 10,
   "metadata": {},
   "outputs": [],
   "source": [
    "import os\n",
    "os.environ['PROJ_LIB']='E:\\python\\Lib\\site-packages\\pyproj\\proj_dir\\share\\proj'"
   ]
  },
  {
   "cell_type": "code",
   "execution_count": 17,
   "metadata": {},
   "outputs": [
    {
     "ename": "TypeError",
     "evalue": "in method 'wrapper_GDALWarpDestName', argument 4 of type 'GDALWarpAppOptions *'",
     "output_type": "error",
     "traceback": [
      "\u001b[1;31m---------------------------------------------------------------------------\u001b[0m",
      "\u001b[1;31mTypeError\u001b[0m                                 Traceback (most recent call last)",
      "\u001b[1;32me:\\QGIS课件\\Open-source-GIS-Course-main_del\\新建文件夹\\Open-source-GIS-Course\\第5章-栅格数据处理-6课时\\resample.ipynb Cell 15\u001b[0m line \u001b[0;36m1\n\u001b[1;32m----> <a href='vscode-notebook-cell:/e%3A/QGIS%E8%AF%BE%E4%BB%B6/Open-source-GIS-Course-main_del/%E6%96%B0%E5%BB%BA%E6%96%87%E4%BB%B6%E5%A4%B9/Open-source-GIS-Course/%E7%AC%AC5%E7%AB%A0-%E6%A0%85%E6%A0%BC%E6%95%B0%E6%8D%AE%E5%A4%84%E7%90%86-6%E8%AF%BE%E6%97%B6/resample.ipynb#X16sZmlsZQ%3D%3D?line=0'>1</a>\u001b[0m reproj \u001b[39m=\u001b[39m gdal\u001b[39m.\u001b[39;49mWarp(destNameOrDestDS\u001b[39m=\u001b[39;49mpath_reproj_2, srcDSOrSrcDSTab\u001b[39m=\u001b[39;49mpath_img, dstSRS \u001b[39m=\u001b[39;49m \u001b[39m'\u001b[39;49m\u001b[39mEPSG:4326\u001b[39;49m\u001b[39m'\u001b[39;49m)\n",
      "File \u001b[1;32me:\\python\\lib\\site-packages\\osgeo\\gdal.py:673\u001b[0m, in \u001b[0;36mWarp\u001b[1;34m(destNameOrDestDS, srcDSOrSrcDSTab, **kwargs)\u001b[0m\n\u001b[0;32m    670\u001b[0m     srcDSTab \u001b[39m=\u001b[39m [srcDSOrSrcDSTab]\n\u001b[0;32m    672\u001b[0m \u001b[39mif\u001b[39;00m \u001b[39misinstance\u001b[39m(destNameOrDestDS, \u001b[39mstr\u001b[39m):\n\u001b[1;32m--> 673\u001b[0m     \u001b[39mreturn\u001b[39;00m wrapper_GDALWarpDestName(destNameOrDestDS, srcDSTab, opts, callback, callback_data)\n\u001b[0;32m    674\u001b[0m \u001b[39melse\u001b[39;00m:\n\u001b[0;32m    675\u001b[0m     \u001b[39mreturn\u001b[39;00m wrapper_GDALWarpDestDS(destNameOrDestDS, srcDSTab, opts, callback, callback_data)\n",
      "File \u001b[1;32me:\\python\\lib\\site-packages\\osgeo\\gdal.py:4215\u001b[0m, in \u001b[0;36mwrapper_GDALWarpDestName\u001b[1;34m(*args)\u001b[0m\n\u001b[0;32m   4213\u001b[0m \u001b[39mdef\u001b[39;00m \u001b[39mwrapper_GDALWarpDestName\u001b[39m(\u001b[39m*\u001b[39margs):\n\u001b[0;32m   4214\u001b[0m \u001b[39m    \u001b[39m\u001b[39mr\u001b[39m\u001b[39m\"\"\"wrapper_GDALWarpDestName(char const * dest, int object_list_count, GDALWarpAppOptions warpAppOptions, GDALProgressFunc callback=0, void * callback_data=None) -> Dataset\"\"\"\u001b[39;00m\n\u001b[1;32m-> 4215\u001b[0m     \u001b[39mreturn\u001b[39;00m _gdal\u001b[39m.\u001b[39;49mwrapper_GDALWarpDestName(\u001b[39m*\u001b[39;49margs)\n",
      "\u001b[1;31mTypeError\u001b[0m: in method 'wrapper_GDALWarpDestName', argument 4 of type 'GDALWarpAppOptions *'"
     ]
    }
   ],
   "source": [
    "reproj = gdal.Warp(destNameOrDestDS=path_reproj_2, srcDSOrSrcDSTab=path_img, dstSRS = 'EPSG:4326')"
   ]
  },
  {
   "cell_type": "code",
   "execution_count": 30,
   "metadata": {},
   "outputs": [],
   "source": [
    "resam = gdal.Warp(destNameOrDestDS=path_resam_2, srcDSOrSrcDSTab=path_img, xRes=60,yRes=60,resampleAlg=gdal.GRA_Bilinear)\n"
   ]
  }
 ],
 "metadata": {
  "kernelspec": {
   "display_name": "Python 3",
   "language": "python",
   "name": "python3"
  },
  "language_info": {
   "codemirror_mode": {
    "name": "ipython",
    "version": 3
   },
   "file_extension": ".py",
   "mimetype": "text/x-python",
   "name": "python",
   "nbconvert_exporter": "python",
   "pygments_lexer": "ipython3",
   "version": "3.8.2"
  }
 },
 "nbformat": 4,
 "nbformat_minor": 2
}
