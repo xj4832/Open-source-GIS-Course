{
 "cells": [
  {
   "cell_type": "markdown",
   "metadata": {},
   "source": [
    "1、投影转换"
   ]
  },
  {
   "cell_type": "code",
   "execution_count": 2,
   "metadata": {},
   "outputs": [],
   "source": [
    "from osgeo import gdal\n",
    "from osgeo import osr\n"
   ]
  },
  {
   "cell_type": "code",
   "execution_count": 3,
   "metadata": {},
   "outputs": [],
   "source": [
    "path_img = 'E:\\QGIS Data\\s2_chenggong_6bands.tif'\n",
    "path_reproj = 'E:\\QGIS Data\\shanger1\\chenggong_reproj.tif'"
   ]
  },
  {
   "cell_type": "code",
   "execution_count": 4,
   "metadata": {},
   "outputs": [
    {
     "name": "stdout",
     "output_type": "stream",
     "text": [
      "PROJCS[\"WGS_1984_UTM_Zone_47N\",GEOGCS[\"WGS 84\",DATUM[\"World Geodetic System 1984\",SPHEROID[\"WGS 84\",6378137,298.257223563]],PRIMEM[\"Greenwich\",0],UNIT[\"degree\",0.0174532925199433,AUTHORITY[\"EPSG\",\"9122\"]]],PROJECTION[\"Transverse_Mercator\"],PARAMETER[\"latitude_of_origin\",0],PARAMETER[\"central_meridian\",99],PARAMETER[\"scale_factor\",0.9996],PARAMETER[\"false_easting\",500000],PARAMETER[\"false_northing\",0],UNIT[\"metre\",1,AUTHORITY[\"EPSG\",\"9001\"]],AXIS[\"Easting\",EAST],AXIS[\"Northing\",NORTH]]\n"
     ]
    }
   ],
   "source": [
    "dset = gdal.Open(path_img)\n",
    "print(dset.GetProjection())"
   ]
  },
  {
   "cell_type": "code",
   "execution_count": 7,
   "metadata": {},
   "outputs": [
    {
     "name": "stdout",
     "output_type": "stream",
     "text": [
      "\n"
     ]
    }
   ],
   "source": [
    "utm47_epsg = 32647\n",
    "wgs84_epsg = 4326\n",
    "utm47 = osr.SpatialReference()\n",
    "utm47.ImportFromEPSG(utm47_epsg)\n",
    "wgs84 = osr.SpatialReference()\n",
    "wgs84.ImportFromEPSG(wgs84_epsg)\n",
    "wgs84.SetAxisMappingStrategy(osr.OAMS_TRADITIONAL_GIS_ORDER)\n",
    "proj_wgs84_wkt = wgs84.ExportToWkt()\n",
    "proj_utm47_wkt = utm47.ExportToWkt()\n",
    "print(proj_wgs84_wkt)\n",
    "transform = osr.CoordinateTransformation(utm47,wgs84)"
   ]
  },
  {
   "cell_type": "code",
   "execution_count": null,
   "metadata": {},
   "outputs": [],
   "source": [
    "geo_geotrans = dset.GetGeoTransform()\n",
    "print(geo_geotrans)\n",
    "(x_min_wgs84,y_max_wgs84) = transform.TransformPoint(geo_geotrans[0],geo_geotrans[3])\n",
    "print(x_min_wgs84,y_max_wgs84)\n"
   ]
  },
  {
   "cell_type": "code",
   "execution_count": null,
   "metadata": {},
   "outputs": [],
   "source": [
    "x_max_utm = geo_geotrans[0] +geo_geotrans[1]*dset.RaterXSize\n",
    "y_min_utm = geo_geotrans[3] +geo_geotrans[5]*dset.RaterYSize\n"
   ]
  },
  {
   "cell_type": "code",
   "execution_count": null,
   "metadata": {},
   "outputs": [],
   "source": [
    "x_max_wgs84,y_min_wgs84,z = transform.TransformPoint(x_max_utm,y_min_utm,0)\n",
    "print(x_max_wgs84,y_min_wgs84)\n"
   ]
  },
  {
   "cell_type": "code",
   "execution_count": null,
   "metadata": {},
   "outputs": [],
   "source": [
    "width_wgs84 = (x_max_wgs84-x_min_wgs84)/dset.RasterXSize\n",
    "height_wgs84 = (y_max_wgs84-y_min_wgs84)/dset.RasterYSize\n",
    "print(width_wgs84,height_wgs84)\n"
   ]
  },
  {
   "cell_type": "code",
   "execution_count": null,
   "metadata": {},
   "outputs": [],
   "source": [
    "geo_geotrans_wgs84 = []\n"
   ]
  },
  {
   "cell_type": "code",
   "execution_count": null,
   "metadata": {},
   "outputs": [],
   "source": [
    "driver = gdal.GetDriverByName('GTiff')\n",
    "dset_wgs84 = driver.Create(path_reproj,xsize=dset.RasterXSize,ysize=dset.RasterYSixe,bands=dset.RasterCount,eType=gdal.GDT_Int16)\n",
    "dset_wgs84.SetGeoTransform(geo_geotrans_wgs84)\n",
    "dset_wgs84.SetProjection(proj_wgs84_wkt)\n",
    "reproj = gdal.ReProjectImage(src_ds=dset,dst_ds=dset_wgs84,src_wkt=utm47,dst_wkt=wgs84)                         \n",
    "\n",
    "dset_wgs84 = None\n"
   ]
  }
 ],
 "metadata": {
  "kernelspec": {
   "display_name": "Python 3",
   "language": "python",
   "name": "python3"
  },
  "language_info": {
   "codemirror_mode": {
    "name": "ipython",
    "version": 3
   },
   "file_extension": ".py",
   "mimetype": "text/x-python",
   "name": "python",
   "nbconvert_exporter": "python",
   "pygments_lexer": "ipython3",
   "version": "3.8.2"
  }
 },
 "nbformat": 4,
 "nbformat_minor": 2
}
